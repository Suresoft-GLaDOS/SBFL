{
 "cells": [
  {
   "cell_type": "code",
   "execution_count": 2,
   "metadata": {},
   "outputs": [
    {
     "data": {
      "text/plain": [
       "(array([[ True,  True, False, False,  True,  True],\n",
       "        [ True,  True, False, False,  True,  True],\n",
       "        [False,  True,  True, False,  True, False],\n",
       "        [ True, False, False,  True, False, False],\n",
       "        [False,  True, False,  True,  True, False]]),\n",
       " array([ True,  True, False, False, False]))"
      ]
     },
     "execution_count": 2,
     "metadata": {},
     "output_type": "execute_result"
    }
   ],
   "source": [
    "import numpy as np\n",
    "import pandas as pd\n",
    "from sbfl.base import SBFL, Ensemble\n",
    "from scipy.stats import rankdata\n",
    "\n",
    "#   e1,e2,e3,e4,e5,e6\n",
    "X = np.array([\n",
    "    [1,1,0,0,1,1], # coverage of test t0\n",
    "    [1,1,0,0,1,1], # coverage of test t1\n",
    "    [0,1,1,0,1,0], # coverage of test t2\n",
    "    [1,0,0,1,0,0],\n",
    "    [0,1,0,1,1,0],\n",
    "], dtype=bool)\n",
    "\n",
    "y = np.array([1,1,0,0,0], dtype=bool)\n",
    "\n",
    "X, y"
   ]
  },
  {
   "cell_type": "code",
   "execution_count": 3,
   "metadata": {},
   "outputs": [
    {
     "data": {
      "text/plain": [
       "array([0.33333333, 0.57735027, 0.57735027, 0.81649658, 0.57735027,\n",
       "       0.        ])"
      ]
     },
     "execution_count": 3,
     "metadata": {},
     "output_type": "execute_result"
    }
   ],
   "source": [
    "sbfl = SBFL(formula='Ochiai')\n",
    "sbfl.fit_predict(X, y)"
   ]
  },
  {
   "cell_type": "code",
   "execution_count": 4,
   "metadata": {},
   "outputs": [
    {
     "data": {
      "text/plain": [
       "array([5, 4, 4, 1, 4, 6])"
      ]
     },
     "execution_count": 4,
     "metadata": {},
     "output_type": "execute_result"
    }
   ],
   "source": [
    "sbfl.ranks(method='max')"
   ]
  },
  {
   "cell_type": "code",
   "execution_count": 5,
   "metadata": {},
   "outputs": [
    {
     "data": {
      "text/html": [
       "<div>\n",
       "<style scoped>\n",
       "    .dataframe tbody tr th:only-of-type {\n",
       "        vertical-align: middle;\n",
       "    }\n",
       "\n",
       "    .dataframe tbody tr th {\n",
       "        vertical-align: top;\n",
       "    }\n",
       "\n",
       "    .dataframe thead th {\n",
       "        text-align: right;\n",
       "    }\n",
       "</style>\n",
       "<table border=\"1\" class=\"dataframe\">\n",
       "  <thead>\n",
       "    <tr style=\"text-align: right;\">\n",
       "      <th></th>\n",
       "      <th></th>\n",
       "      <th></th>\n",
       "      <th>score</th>\n",
       "    </tr>\n",
       "    <tr>\n",
       "      <th>file</th>\n",
       "      <th>method</th>\n",
       "      <th>line</th>\n",
       "      <th></th>\n",
       "    </tr>\n",
       "  </thead>\n",
       "  <tbody>\n",
       "    <tr>\n",
       "      <th>file1.py</th>\n",
       "      <th>method1</th>\n",
       "      <th>line1</th>\n",
       "      <td>0.333333</td>\n",
       "    </tr>\n",
       "    <tr>\n",
       "      <th rowspan=\"5\" valign=\"top\">file2.py</th>\n",
       "      <th rowspan=\"2\" valign=\"top\">method1</th>\n",
       "      <th>line1</th>\n",
       "      <td>0.577350</td>\n",
       "    </tr>\n",
       "    <tr>\n",
       "      <th>line2</th>\n",
       "      <td>0.577350</td>\n",
       "    </tr>\n",
       "    <tr>\n",
       "      <th rowspan=\"2\" valign=\"top\">method2</th>\n",
       "      <th>line3</th>\n",
       "      <td>0.816497</td>\n",
       "    </tr>\n",
       "    <tr>\n",
       "      <th>line4</th>\n",
       "      <td>0.577350</td>\n",
       "    </tr>\n",
       "    <tr>\n",
       "      <th>method3</th>\n",
       "      <th>line5</th>\n",
       "      <td>0.000000</td>\n",
       "    </tr>\n",
       "  </tbody>\n",
       "</table>\n",
       "</div>"
      ],
      "text/plain": [
       "                           score\n",
       "file     method  line           \n",
       "file1.py method1 line1  0.333333\n",
       "file2.py method1 line1  0.577350\n",
       "                 line2  0.577350\n",
       "         method2 line3  0.816497\n",
       "                 line4  0.577350\n",
       "         method3 line5  0.000000"
      ]
     },
     "execution_count": 5,
     "metadata": {},
     "output_type": "execute_result"
    }
   ],
   "source": [
    "names = ['file', 'method', 'line']\n",
    "elements = [\n",
    "    ('file1.py', 'method1', 'line1'),\n",
    "    ('file2.py', 'method1', 'line1'),\n",
    "    ('file2.py', 'method1', 'line2'),\n",
    "    ('file2.py', 'method2', 'line3'),\n",
    "    ('file2.py', 'method2', 'line4'),\n",
    "    ('file2.py', 'method3', 'line5'),\n",
    "]\n",
    "score_df = sbfl.to_frame(elements=elements, names=names)\n",
    "score_df"
   ]
  },
  {
   "cell_type": "code",
   "execution_count": 6,
   "metadata": {},
   "outputs": [
    {
     "data": {
      "text/html": [
       "<div>\n",
       "<style scoped>\n",
       "    .dataframe tbody tr th:only-of-type {\n",
       "        vertical-align: middle;\n",
       "    }\n",
       "\n",
       "    .dataframe tbody tr th {\n",
       "        vertical-align: top;\n",
       "    }\n",
       "\n",
       "    .dataframe thead th {\n",
       "        text-align: right;\n",
       "    }\n",
       "</style>\n",
       "<table border=\"1\" class=\"dataframe\">\n",
       "  <thead>\n",
       "    <tr style=\"text-align: right;\">\n",
       "      <th></th>\n",
       "      <th></th>\n",
       "      <th>score</th>\n",
       "    </tr>\n",
       "    <tr>\n",
       "      <th>file</th>\n",
       "      <th>method</th>\n",
       "      <th></th>\n",
       "    </tr>\n",
       "  </thead>\n",
       "  <tbody>\n",
       "    <tr>\n",
       "      <th>file1.py</th>\n",
       "      <th>method1</th>\n",
       "      <td>0.111111</td>\n",
       "    </tr>\n",
       "    <tr>\n",
       "      <th rowspan=\"3\" valign=\"top\">file2.py</th>\n",
       "      <th>method1</th>\n",
       "      <td>0.577350</td>\n",
       "    </tr>\n",
       "    <tr>\n",
       "      <th>method2</th>\n",
       "      <td>1.105172</td>\n",
       "    </tr>\n",
       "    <tr>\n",
       "      <th>method3</th>\n",
       "      <td>0.000000</td>\n",
       "    </tr>\n",
       "  </tbody>\n",
       "</table>\n",
       "</div>"
      ],
      "text/plain": [
       "                     score\n",
       "file     method           \n",
       "file1.py method1  0.111111\n",
       "file2.py method1  0.577350\n",
       "         method2  1.105172\n",
       "         method3  0.000000"
      ]
     },
     "execution_count": 6,
     "metadata": {},
     "output_type": "execute_result"
    }
   ],
   "source": [
    "from sbfl.score_aggregation import dense_rank_based_suspiciousness_aware_voting\n",
    "\n",
    "dense_rank_based_suspiciousness_aware_voting(score_df, ['file', 'method'])"
   ]
  },
  {
   "attachments": {},
   "cell_type": "markdown",
   "metadata": {},
   "source": [
    "# Ensemble"
   ]
  },
  {
   "cell_type": "code",
   "execution_count": 7,
   "metadata": {},
   "outputs": [
    {
     "data": {
      "text/plain": [
       "array([0.33333333, 0.57735027, 0.57735027, 0.81649658, 0.57735027,\n",
       "       0.        ])"
      ]
     },
     "execution_count": 7,
     "metadata": {},
     "output_type": "execute_result"
    }
   ],
   "source": [
    "# single model\n",
    "sbfl = SBFL(formula='Ochiai')\n",
    "sbfl.fit_predict(X, y)"
   ]
  },
  {
   "cell_type": "code",
   "execution_count": 8,
   "metadata": {},
   "outputs": [
    {
     "data": {
      "text/plain": [
       "array([0.4       , 0.58333333, 0.5       , 2.        , 0.58333333,\n",
       "       0.33333333])"
      ]
     },
     "execution_count": 8,
     "metadata": {},
     "output_type": "execute_result"
    }
   ],
   "source": [
    "# multiple models\n",
    "en = Ensemble()\n",
    "en.add_localizer(SBFL(formula=\"Ochiai\"))\n",
    "en.add_localizer(SBFL(formula=\"Op2\"))\n",
    "en.fit_predict(X, y)"
   ]
  },
  {
   "cell_type": "markdown",
   "metadata": {},
   "source": [
    "# Read GCOV files"
   ]
  },
  {
   "cell_type": "code",
   "execution_count": 9,
   "metadata": {},
   "outputs": [
    {
     "name": "stdout",
     "output_type": "stream",
     "text": [
      "test100: 48 gcov files are found.\n",
      "test101: 48 gcov files are found.\n",
      "test102: 48 gcov files are found.\n",
      "test103: 48 gcov files are found.\n",
      "test104: 48 gcov files are found.\n"
     ]
    }
   ],
   "source": [
    "gcov_dir = {\n",
    "    'test100': 'resources/yara-buggy#3-100',\n",
    "    'test101': 'resources/yara-buggy#3-101',\n",
    "    'test102': 'resources/yara-buggy#3-102',\n",
    "    'test103': 'resources/yara-buggy#3-103',\n",
    "    'test104': 'resources/yara-buggy#3-104',\n",
    "}\n",
    "gcov_files = {test:[] for test in gcov_dir}\n",
    "for test in gcov_dir:\n",
    "    for path in os.listdir(gcov_dir[test]):\n",
    "        if path.endswith('.gcov'):\n",
    "            gcov_files[test].append(os.path.join(gcov_dir[test], path))\n",
    "    print(f\"{test}: {len(gcov_files[test])} gcov files are found.\")"
   ]
  },
  {
   "cell_type": "code",
   "execution_count": 10,
   "metadata": {},
   "outputs": [
    {
     "name": "stderr",
     "output_type": "stream",
     "text": [
      "100%|██████████| 5/5 [00:01<00:00,  3.90it/s]\n"
     ]
    },
    {
     "data": {
      "text/html": [
       "<div>\n",
       "<style scoped>\n",
       "    .dataframe tbody tr th:only-of-type {\n",
       "        vertical-align: middle;\n",
       "    }\n",
       "\n",
       "    .dataframe tbody tr th {\n",
       "        vertical-align: top;\n",
       "    }\n",
       "\n",
       "    .dataframe thead th {\n",
       "        text-align: right;\n",
       "    }\n",
       "</style>\n",
       "<table border=\"1\" class=\"dataframe\">\n",
       "  <thead>\n",
       "    <tr style=\"text-align: right;\">\n",
       "      <th></th>\n",
       "      <th></th>\n",
       "      <th></th>\n",
       "      <th>test100</th>\n",
       "      <th>test101</th>\n",
       "      <th>test102</th>\n",
       "      <th>test103</th>\n",
       "      <th>test104</th>\n",
       "    </tr>\n",
       "    <tr>\n",
       "      <th>file</th>\n",
       "      <th>function</th>\n",
       "      <th>line</th>\n",
       "      <th></th>\n",
       "      <th></th>\n",
       "      <th></th>\n",
       "      <th></th>\n",
       "      <th></th>\n",
       "    </tr>\n",
       "  </thead>\n",
       "  <tbody>\n",
       "    <tr>\n",
       "      <th rowspan=\"5\" valign=\"top\">/home/workspace/libyara/threading.gcno,threading.c</th>\n",
       "      <th rowspan=\"5\" valign=\"top\">NaN</th>\n",
       "      <th>172</th>\n",
       "      <td>12</td>\n",
       "      <td>12</td>\n",
       "      <td>12</td>\n",
       "      <td>12</td>\n",
       "      <td>12</td>\n",
       "    </tr>\n",
       "    <tr>\n",
       "      <th>175</th>\n",
       "      <td>12</td>\n",
       "      <td>12</td>\n",
       "      <td>12</td>\n",
       "      <td>12</td>\n",
       "      <td>12</td>\n",
       "    </tr>\n",
       "    <tr>\n",
       "      <th>178</th>\n",
       "      <td>12</td>\n",
       "      <td>12</td>\n",
       "      <td>12</td>\n",
       "      <td>12</td>\n",
       "      <td>12</td>\n",
       "    </tr>\n",
       "    <tr>\n",
       "      <th>182</th>\n",
       "      <td>8</td>\n",
       "      <td>8</td>\n",
       "      <td>8</td>\n",
       "      <td>8</td>\n",
       "      <td>8</td>\n",
       "    </tr>\n",
       "    <tr>\n",
       "      <th>185</th>\n",
       "      <td>8</td>\n",
       "      <td>8</td>\n",
       "      <td>8</td>\n",
       "      <td>8</td>\n",
       "      <td>8</td>\n",
       "    </tr>\n",
       "    <tr>\n",
       "      <th>...</th>\n",
       "      <th>...</th>\n",
       "      <th>...</th>\n",
       "      <td>...</td>\n",
       "      <td>...</td>\n",
       "      <td>...</td>\n",
       "      <td>...</td>\n",
       "      <td>...</td>\n",
       "    </tr>\n",
       "    <tr>\n",
       "      <th rowspan=\"5\" valign=\"top\">/home/workspace/libyara/hex_lexer.gcno,hex_lexer.l</th>\n",
       "      <th rowspan=\"5\" valign=\"top\">NaN</th>\n",
       "      <th>252</th>\n",
       "      <td>1</td>\n",
       "      <td>1</td>\n",
       "      <td>1</td>\n",
       "      <td>0</td>\n",
       "      <td>0</td>\n",
       "    </tr>\n",
       "    <tr>\n",
       "      <th>253</th>\n",
       "      <td>1</td>\n",
       "      <td>1</td>\n",
       "      <td>1</td>\n",
       "      <td>0</td>\n",
       "      <td>0</td>\n",
       "    </tr>\n",
       "    <tr>\n",
       "      <th>254</th>\n",
       "      <td>1</td>\n",
       "      <td>1</td>\n",
       "      <td>1</td>\n",
       "      <td>0</td>\n",
       "      <td>0</td>\n",
       "    </tr>\n",
       "    <tr>\n",
       "      <th>256</th>\n",
       "      <td>1</td>\n",
       "      <td>1</td>\n",
       "      <td>1</td>\n",
       "      <td>0</td>\n",
       "      <td>0</td>\n",
       "    </tr>\n",
       "    <tr>\n",
       "      <th>262</th>\n",
       "      <td>1</td>\n",
       "      <td>1</td>\n",
       "      <td>1</td>\n",
       "      <td>0</td>\n",
       "      <td>0</td>\n",
       "    </tr>\n",
       "  </tbody>\n",
       "</table>\n",
       "<p>778 rows × 5 columns</p>\n",
       "</div>"
      ],
      "text/plain": [
       "                                                                  test100  \\\n",
       "file                                               function line            \n",
       "/home/workspace/libyara/threading.gcno,threading.c NaN      172        12   \n",
       "                                                            175        12   \n",
       "                                                            178        12   \n",
       "                                                            182         8   \n",
       "                                                            185         8   \n",
       "...                                                                   ...   \n",
       "/home/workspace/libyara/hex_lexer.gcno,hex_lexer.l NaN      252         1   \n",
       "                                                            253         1   \n",
       "                                                            254         1   \n",
       "                                                            256         1   \n",
       "                                                            262         1   \n",
       "\n",
       "                                                                  test101  \\\n",
       "file                                               function line            \n",
       "/home/workspace/libyara/threading.gcno,threading.c NaN      172        12   \n",
       "                                                            175        12   \n",
       "                                                            178        12   \n",
       "                                                            182         8   \n",
       "                                                            185         8   \n",
       "...                                                                   ...   \n",
       "/home/workspace/libyara/hex_lexer.gcno,hex_lexer.l NaN      252         1   \n",
       "                                                            253         1   \n",
       "                                                            254         1   \n",
       "                                                            256         1   \n",
       "                                                            262         1   \n",
       "\n",
       "                                                                  test102  \\\n",
       "file                                               function line            \n",
       "/home/workspace/libyara/threading.gcno,threading.c NaN      172        12   \n",
       "                                                            175        12   \n",
       "                                                            178        12   \n",
       "                                                            182         8   \n",
       "                                                            185         8   \n",
       "...                                                                   ...   \n",
       "/home/workspace/libyara/hex_lexer.gcno,hex_lexer.l NaN      252         1   \n",
       "                                                            253         1   \n",
       "                                                            254         1   \n",
       "                                                            256         1   \n",
       "                                                            262         1   \n",
       "\n",
       "                                                                  test103  \\\n",
       "file                                               function line            \n",
       "/home/workspace/libyara/threading.gcno,threading.c NaN      172        12   \n",
       "                                                            175        12   \n",
       "                                                            178        12   \n",
       "                                                            182         8   \n",
       "                                                            185         8   \n",
       "...                                                                   ...   \n",
       "/home/workspace/libyara/hex_lexer.gcno,hex_lexer.l NaN      252         0   \n",
       "                                                            253         0   \n",
       "                                                            254         0   \n",
       "                                                            256         0   \n",
       "                                                            262         0   \n",
       "\n",
       "                                                                  test104  \n",
       "file                                               function line           \n",
       "/home/workspace/libyara/threading.gcno,threading.c NaN      172        12  \n",
       "                                                            175        12  \n",
       "                                                            178        12  \n",
       "                                                            182         8  \n",
       "                                                            185         8  \n",
       "...                                                                   ...  \n",
       "/home/workspace/libyara/hex_lexer.gcno,hex_lexer.l NaN      252         0  \n",
       "                                                            253         0  \n",
       "                                                            254         0  \n",
       "                                                            256         0  \n",
       "                                                            262         0  \n",
       "\n",
       "[778 rows x 5 columns]"
      ]
     },
     "execution_count": 10,
     "metadata": {},
     "output_type": "execute_result"
    }
   ],
   "source": [
    "from sbfl.utils import gcov_files_to_frame, get_sbfl_scores_from_frame\n",
    "\n",
    "cov_df = gcov_files_to_frame(gcov_files, only_covered=True, verbose=True)\n",
    "cov_df"
   ]
  },
  {
   "cell_type": "code",
   "execution_count": 11,
   "metadata": {},
   "outputs": [],
   "source": [
    "score_df = get_sbfl_scores_from_frame(cov_df, failing_tests=['test102'])"
   ]
  },
  {
   "cell_type": "code",
   "execution_count": 12,
   "metadata": {},
   "outputs": [
    {
     "data": {
      "text/html": [
       "<div>\n",
       "<style scoped>\n",
       "    .dataframe tbody tr th:only-of-type {\n",
       "        vertical-align: middle;\n",
       "    }\n",
       "\n",
       "    .dataframe tbody tr th {\n",
       "        vertical-align: top;\n",
       "    }\n",
       "\n",
       "    .dataframe thead th {\n",
       "        text-align: right;\n",
       "    }\n",
       "</style>\n",
       "<table border=\"1\" class=\"dataframe\">\n",
       "  <thead>\n",
       "    <tr style=\"text-align: right;\">\n",
       "      <th></th>\n",
       "      <th>score</th>\n",
       "    </tr>\n",
       "    <tr>\n",
       "      <th>file</th>\n",
       "      <th></th>\n",
       "    </tr>\n",
       "  </thead>\n",
       "  <tbody>\n",
       "    <tr>\n",
       "      <th>/home/workspace/libyara/atoms.gcno,atoms.c</th>\n",
       "      <td>42.570357</td>\n",
       "    </tr>\n",
       "    <tr>\n",
       "      <th>/home/workspace/libyara/bitmask.gcno,bitmask.c</th>\n",
       "      <td>0.000000</td>\n",
       "    </tr>\n",
       "    <tr>\n",
       "      <th>/home/workspace/libyara/hex_grammar.gcno,hex_grammar.c</th>\n",
       "      <td>17.897858</td>\n",
       "    </tr>\n",
       "    <tr>\n",
       "      <th>/home/workspace/libyara/hex_grammar.gcno,hex_grammar.y</th>\n",
       "      <td>5.070765</td>\n",
       "    </tr>\n",
       "    <tr>\n",
       "      <th>/home/workspace/libyara/hex_lexer.gcno,hex_lexer.c</th>\n",
       "      <td>37.720218</td>\n",
       "    </tr>\n",
       "    <tr>\n",
       "      <th>/home/workspace/libyara/hex_lexer.gcno,hex_lexer.l</th>\n",
       "      <td>5.102112</td>\n",
       "    </tr>\n",
       "    <tr>\n",
       "      <th>/home/workspace/libyara/libyara.gcno,libyara.c</th>\n",
       "      <td>4.360333</td>\n",
       "    </tr>\n",
       "    <tr>\n",
       "      <th>/home/workspace/libyara/mem.gcno,mem.c</th>\n",
       "      <td>1.006231</td>\n",
       "    </tr>\n",
       "    <tr>\n",
       "      <th>/home/workspace/libyara/modules.gcno,modules.c</th>\n",
       "      <td>1.118034</td>\n",
       "    </tr>\n",
       "    <tr>\n",
       "      <th>/home/workspace/libyara/modules/elf.gcno,modules/elf.c</th>\n",
       "      <td>0.447214</td>\n",
       "    </tr>\n",
       "    <tr>\n",
       "      <th>/home/workspace/libyara/modules/hash.gcno,modules/hash.c</th>\n",
       "      <td>0.447214</td>\n",
       "    </tr>\n",
       "    <tr>\n",
       "      <th>/home/workspace/libyara/modules/math.gcno,modules/math.c</th>\n",
       "      <td>0.447214</td>\n",
       "    </tr>\n",
       "    <tr>\n",
       "      <th>/home/workspace/libyara/modules/pe.gcno,modules/pe.c</th>\n",
       "      <td>0.447214</td>\n",
       "    </tr>\n",
       "    <tr>\n",
       "      <th>/home/workspace/libyara/modules/tests.gcno,modules/tests.c</th>\n",
       "      <td>0.447214</td>\n",
       "    </tr>\n",
       "    <tr>\n",
       "      <th>/home/workspace/libyara/modules/time.gcno,modules/time.c</th>\n",
       "      <td>0.447214</td>\n",
       "    </tr>\n",
       "    <tr>\n",
       "      <th>/home/workspace/libyara/re.gcno,re.c</th>\n",
       "      <td>9.430054</td>\n",
       "    </tr>\n",
       "    <tr>\n",
       "      <th>/home/workspace/libyara/stack.gcno,stack.c</th>\n",
       "      <td>4.340196</td>\n",
       "    </tr>\n",
       "    <tr>\n",
       "      <th>/home/workspace/libyara/strutils.gcno,strutils.c</th>\n",
       "      <td>1.732051</td>\n",
       "    </tr>\n",
       "    <tr>\n",
       "      <th>/home/workspace/libyara/threading.gcno,threading.c</th>\n",
       "      <td>1.248171</td>\n",
       "    </tr>\n",
       "  </tbody>\n",
       "</table>\n",
       "</div>"
      ],
      "text/plain": [
       "                                                        score\n",
       "file                                                         \n",
       "/home/workspace/libyara/atoms.gcno,atoms.c          42.570357\n",
       "/home/workspace/libyara/bitmask.gcno,bitmask.c       0.000000\n",
       "/home/workspace/libyara/hex_grammar.gcno,hex_gr...  17.897858\n",
       "/home/workspace/libyara/hex_grammar.gcno,hex_gr...   5.070765\n",
       "/home/workspace/libyara/hex_lexer.gcno,hex_lexer.c  37.720218\n",
       "/home/workspace/libyara/hex_lexer.gcno,hex_lexer.l   5.102112\n",
       "/home/workspace/libyara/libyara.gcno,libyara.c       4.360333\n",
       "/home/workspace/libyara/mem.gcno,mem.c               1.006231\n",
       "/home/workspace/libyara/modules.gcno,modules.c       1.118034\n",
       "/home/workspace/libyara/modules/elf.gcno,module...   0.447214\n",
       "/home/workspace/libyara/modules/hash.gcno,modul...   0.447214\n",
       "/home/workspace/libyara/modules/math.gcno,modul...   0.447214\n",
       "/home/workspace/libyara/modules/pe.gcno,modules...   0.447214\n",
       "/home/workspace/libyara/modules/tests.gcno,modu...   0.447214\n",
       "/home/workspace/libyara/modules/time.gcno,modul...   0.447214\n",
       "/home/workspace/libyara/re.gcno,re.c                 9.430054\n",
       "/home/workspace/libyara/stack.gcno,stack.c           4.340196\n",
       "/home/workspace/libyara/strutils.gcno,strutils.c     1.732051\n",
       "/home/workspace/libyara/threading.gcno,threading.c   1.248171"
      ]
     },
     "execution_count": 12,
     "metadata": {},
     "output_type": "execute_result"
    }
   ],
   "source": [
    "dense_rank_based_suspiciousness_aware_voting(score_df, ['file'])"
   ]
  }
 ],
 "metadata": {
  "interpreter": {
   "hash": "b2bc7d33dda9c783ad817d5907cf76dfe558c40a43c8ad6a6758b3644e5b3f31"
  },
  "kernelspec": {
   "display_name": "Python 3.9.1 64-bit ('glados-env': pyenv)",
   "name": "python3"
  },
  "language_info": {
   "codemirror_mode": {
    "name": "ipython",
    "version": 3
   },
   "file_extension": ".py",
   "mimetype": "text/x-python",
   "name": "python",
   "nbconvert_exporter": "python",
   "pygments_lexer": "ipython3",
   "version": "3.9.1"
  },
  "metadata": {
   "interpreter": {
    "hash": "b2bc7d33dda9c783ad817d5907cf76dfe558c40a43c8ad6a6758b3644e5b3f31"
   }
  },
  "orig_nbformat": 2
 },
 "nbformat": 4,
 "nbformat_minor": 2
}
